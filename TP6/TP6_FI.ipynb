{
  "nbformat": 4,
  "nbformat_minor": 0,
  "metadata": {
    "colab": {
      "name": "TP6_FI.ipynb",
      "provenance": [],
      "collapsed_sections": [],
      "authorship_tag": "ABX9TyOiwHRi1ptqUSruYDXPYgoE",
      "include_colab_link": true
    },
    "kernelspec": {
      "name": "python3",
      "display_name": "Python 3"
    },
    "language_info": {
      "name": "python"
    }
  },
  "cells": [
    {
      "cell_type": "markdown",
      "metadata": {
        "id": "view-in-github",
        "colab_type": "text"
      },
      "source": [
        "<a href=\"https://colab.research.google.com/github/RonnyGuevara/Fractal_Images/blob/main/TP6/TP6_FI.ipynb\" target=\"_parent\"><img src=\"https://colab.research.google.com/assets/colab-badge.svg\" alt=\"Open In Colab\"/></a>"
      ]
    },
    {
      "cell_type": "code",
      "execution_count": null,
      "metadata": {
        "colab": {
          "base_uri": "https://localhost:8080/",
          "height": 283
        },
        "id": "lJiQkpjDV50z",
        "outputId": "fe71612c-0cdd-4e8c-e37a-785b7577cc6b"
      },
      "outputs": [
        {
          "output_type": "display_data",
          "data": {
            "text/plain": [
              "<Figure size 864x504 with 1 Axes>"
            ],
            "image/png": "[encoded data removed]"
          },
          "metadata": {}
        }
      ],
      "source": [
        "from math import sin, cos, pi\n",
        "import matplotlib.pyplot as pl\n",
        "from matplotlib import collections\n",
        " \n",
        "class L_System(object):\n",
        "    def __init__(self, rule):\n",
        "        info = rule['S']\n",
        "        for i in range(rule['iter']):\n",
        "            ninfo = []\n",
        "            for c in info:\n",
        "                if c in rule:\n",
        "                    ninfo.append(rule[c])\n",
        "                else:\n",
        "                    ninfo.append(c)\n",
        "            info = \"\".join(ninfo)\n",
        "        self.rule = rule\n",
        "        self.info = info\n",
        " \n",
        "    def get_lines(self):\n",
        "        d = self.rule['direct']\n",
        "        a = self.rule['angle']\n",
        "        p = (0.0, 0.0)\n",
        "        l = 1.0\n",
        "        lines = []\n",
        "        stack = []\n",
        "        for c in self.info:\n",
        "            if c in \"Ff\":\n",
        "                r = d * pi / 180\n",
        "                t = p[0] + l*cos(r), p[1] + l*sin(r)\n",
        "                lines.append(((p[0], p[1]), (t[0], t[1])))\n",
        "                p = t\n",
        "            elif c == \"+\":\n",
        "                d += a\n",
        "            elif c == \"-\":\n",
        "                d -= a\n",
        "            elif c == \"[\":\n",
        "                stack.append((p,d))\n",
        "            elif c == \"]\":\n",
        "                p, d = stack[-1]\n",
        "                del stack[-1]\n",
        "        return lines\n",
        " \n",
        "rules = [\n",
        "    {\n",
        "        \"F\":\"F+F--F+F\", \"S\":\"F\",\n",
        "        \"direct\":180,\n",
        "        \"angle\":60,\n",
        "        \"iter\":5,\n",
        "        \"title\":\"Koch\"\n",
        "    },\n",
        "    {\n",
        "        \"X\":\"X+YF+\", \"Y\":\"-FX-Y\", \"S\":\"FX\",\n",
        "        \"direct\":0,\n",
        "        \"angle\":90,\n",
        "        \"iter\":13,\n",
        "        \"title\":\"Dragon\"\n",
        "    },\n",
        "    {\n",
        "        \"f\":\"F-f-F\", \"F\":\"f+F+f\", \"S\":\"f\",\n",
        "        \"direct\":0,\n",
        "        \"angle\":60,\n",
        "        \"iter\":7,\n",
        "        \"title\":\"Triangle\"\n",
        "    },\n",
        "    {\n",
        "        \"X\":\"F-[[X]+X]+F[+FX]-X\", \"F\":\"FF\", \"S\":\"X\",\n",
        "        \"direct\":-45,\n",
        "        \"angle\":25,\n",
        "        \"iter\":6,\n",
        "        \"title\":\"Plant\"\n",
        "    },\n",
        "    {\n",
        "        \"S\":\"X\", \"X\":\"-YF+XFX+FY-\", \"Y\":\"+XF-YFY-FX+\",\n",
        "        \"direct\":0,\n",
        "        \"angle\":90,\n",
        "        \"iter\":8,\n",
        "        \"title\":\"Hilbert\"\n",
        "    },\n",
        "    {\n",
        "        \"S\":\"L--F--L--F\", \"L\":\"+R-F-R+\", \"R\":\"-L+F+L-\",\n",
        "        \"direct\":0,\n",
        "        \"angle\":45,\n",
        "        \"iter\":10,\n",
        "        \"title\":\"Sierpinski\"\n",
        "    },\n",
        "]\n",
        " \n",
        "def draw(ax, rule, iter=None):\n",
        "    if iter!=None:\n",
        "        rule[\"iter\"] = iter\n",
        "    lines = L_System(rule).get_lines()\n",
        "    linecollections = collections.LineCollection(lines)\n",
        "    ax.add_collection(linecollections, autolim=True)\n",
        "    ax.axis(\"equal\")\n",
        "    ax.set_axis_off()\n",
        "    ax.set_xlim(ax.dataLim.xmin, ax.dataLim.xmax)\n",
        "    ax.invert_yaxis()\n",
        "        \n",
        "fig = pl.figure(figsize=(12,7))\n",
        "fig.patch.set_facecolor(\"w\")\n",
        " \n",
        "for i in range(1):\n",
        "    ax = fig.add_subplot(231+i)\n",
        "    draw(ax, rules[i])\n",
        " \n",
        "fig.subplots_adjust(left=0,right=1,bottom=0,top=1,wspace=0,hspace=0)\n",
        "pl.show()"
      ]
    }
  ]
}